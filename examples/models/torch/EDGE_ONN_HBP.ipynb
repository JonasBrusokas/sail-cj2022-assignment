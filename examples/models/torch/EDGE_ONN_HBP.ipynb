{
 "cells": [
  {
   "cell_type": "code",
   "execution_count": 1,
   "id": "8a20ef46",
   "metadata": {},
   "outputs": [],
   "source": [
    "# Implementation for Hedge Backpropagation Feed Forward Network for Classification\n",
    "# Original code in Theano https://github.com/LIBOL/ODL\n",
    "# Paper https://www.ijcai.org/proceedings/2018/369\n",
    "#\n",
    "# By Carlos Muniz Cuza and Jonas Brusokas"
   ]
  },
  {
   "cell_type": "code",
   "execution_count": 2,
   "id": "011c86ab",
   "metadata": {},
   "outputs": [],
   "source": [
    "from sail.models.torch.onn_hbp import ONNHBPClassifier, _ONNHBPModel\n",
    "from sklearn.model_selection import train_test_split\n",
    "from sklearn.preprocessing import StandardScaler\n",
    "from sklearn.datasets import make_classification\n",
    "from sklearn.datasets import load_iris\n",
    "from sklearn.utils import gen_batches\n",
    "import numpy as np\n",
    "import torch"
   ]
  },
  {
   "cell_type": "markdown",
   "source": [
    "### 1. Create dataset for classification"
   ],
   "metadata": {
    "collapsed": false,
    "pycharm": {
     "name": "#%% md\n"
    }
   }
  },
  {
   "cell_type": "code",
   "execution_count": 3,
   "outputs": [],
   "source": [
    "n_data_points = 40\n",
    "n_features = 15\n",
    "n_classes = 5\n",
    "\n",
    "X, y = make_classification(n_samples=n_data_points,\n",
    "                           n_features=n_features,\n",
    "                           n_informative=n_classes,\n",
    "                           random_state=0,\n",
    "                           n_classes=n_classes,\n",
    "                           n_clusters_per_class=1)"
   ],
   "metadata": {
    "collapsed": false,
    "pycharm": {
     "name": "#%%\n"
    }
   }
  },
  {
   "cell_type": "markdown",
   "id": "4aade475",
   "metadata": {},
   "source": [
    "### 2. Import and check that the model works."
   ]
  },
  {
   "cell_type": "code",
   "execution_count": 4,
   "id": "32738ced",
   "metadata": {},
   "outputs": [
    {
     "name": "stdout",
     "output_type": "stream",
     "text": [
      "tensor([[0.1940, 0.2239, 0.1944, 0.1947, 0.1929],\n",
      "        [0.1725, 0.2508, 0.2033, 0.1680, 0.2054],\n",
      "        [0.2108, 0.1958, 0.2110, 0.1953, 0.1870],\n",
      "        [0.1981, 0.2225, 0.2033, 0.2029, 0.1732],\n",
      "        [0.1903, 0.2170, 0.1987, 0.1979, 0.1961],\n",
      "        [0.1957, 0.2227, 0.1993, 0.2069, 0.1754],\n",
      "        [0.1904, 0.2240, 0.2016, 0.1810, 0.2030],\n",
      "        [0.1909, 0.2180, 0.2018, 0.2113, 0.1779],\n",
      "        [0.2067, 0.1996, 0.1823, 0.2242, 0.1872],\n",
      "        [0.2018, 0.2359, 0.1918, 0.1944, 0.1761],\n",
      "        [0.1896, 0.2227, 0.2023, 0.2039, 0.1814],\n",
      "        [0.1918, 0.2134, 0.2070, 0.2103, 0.1775],\n",
      "        [0.1829, 0.2118, 0.1988, 0.2063, 0.2002],\n",
      "        [0.2127, 0.2356, 0.1844, 0.1960, 0.1713],\n",
      "        [0.1961, 0.2072, 0.1877, 0.2174, 0.1916],\n",
      "        [0.2092, 0.2065, 0.1902, 0.2229, 0.1712],\n",
      "        [0.1952, 0.2549, 0.1855, 0.1636, 0.2009],\n",
      "        [0.1786, 0.2528, 0.1905, 0.1802, 0.1979],\n",
      "        [0.1888, 0.2166, 0.2166, 0.1583, 0.2198],\n",
      "        [0.1981, 0.2222, 0.2062, 0.1940, 0.1795],\n",
      "        [0.1964, 0.2217, 0.1871, 0.2197, 0.1751],\n",
      "        [0.2189, 0.2106, 0.1914, 0.2055, 0.1735],\n",
      "        [0.1948, 0.2388, 0.1874, 0.1809, 0.1980],\n",
      "        [0.1990, 0.2050, 0.2062, 0.2104, 0.1793],\n",
      "        [0.2016, 0.2031, 0.2045, 0.2152, 0.1756],\n",
      "        [0.1791, 0.2429, 0.1905, 0.1950, 0.1925],\n",
      "        [0.2008, 0.2125, 0.1952, 0.2134, 0.1782],\n",
      "        [0.1752, 0.2176, 0.2040, 0.1963, 0.2069],\n",
      "        [0.1932, 0.2408, 0.1900, 0.1769, 0.1991],\n",
      "        [0.1917, 0.2202, 0.1895, 0.2152, 0.1834],\n",
      "        [0.1942, 0.2474, 0.1964, 0.1964, 0.1656],\n",
      "        [0.2242, 0.1963, 0.1871, 0.2158, 0.1766],\n",
      "        [0.1991, 0.2130, 0.1983, 0.2095, 0.1800],\n",
      "        [0.1991, 0.2147, 0.1802, 0.2190, 0.1870],\n",
      "        [0.1901, 0.2497, 0.1953, 0.1996, 0.1653],\n",
      "        [0.2028, 0.2207, 0.1949, 0.1875, 0.1941],\n",
      "        [0.2091, 0.1955, 0.1911, 0.2266, 0.1777],\n",
      "        [0.1663, 0.2369, 0.1985, 0.1799, 0.2185],\n",
      "        [0.2018, 0.2407, 0.1732, 0.1705, 0.2139],\n",
      "        [0.1982, 0.2241, 0.1896, 0.1692, 0.2189]], grad_fn=<SoftmaxBackward0>)\n"
     ]
    }
   ],
   "source": [
    "ffn_hidden_units = 16\n",
    "n_hidden_layers = 2\n",
    "\n",
    "model = _ONNHBPModel(input_units=n_features,\n",
    "                     output_units=n_classes,\n",
    "                     hidden_units=ffn_hidden_units,\n",
    "                     n_hidden_layers=n_hidden_layers)\n",
    "\n",
    "output = model(X)\n",
    "print(output)"
   ]
  },
  {
   "cell_type": "markdown",
   "source": [
    "### 3. Check skorch"
   ],
   "metadata": {
    "collapsed": false,
    "pycharm": {
     "name": "#%% md\n"
    }
   }
  },
  {
   "cell_type": "code",
   "execution_count": 5,
   "id": "a3ab038f",
   "metadata": {},
   "outputs": [
    {
     "name": "stdout",
     "output_type": "stream",
     "text": [
      "  epoch    train_loss    valid_acc    valid_loss     dur\n",
      "-------  ------------  -----------  ------------  ------\n",
      "      1        \u001B[36m1.6178\u001B[0m       \u001B[32m0.1250\u001B[0m        \u001B[35m1.6412\u001B[0m  0.0037\n",
      "<class 'sail.models.torch.onn_hbp.ONNHBPClassifier'>[initialized](\n",
      "  module_=_ONNHBPModel(\n",
      "    (hidden_layers): ModuleList(\n",
      "      (0): Linear(in_features=15, out_features=16, bias=True)\n",
      "      (1): Linear(in_features=16, out_features=16, bias=True)\n",
      "    )\n",
      "    (output_layers): ModuleList(\n",
      "      (0): Linear(in_features=16, out_features=5, bias=True)\n",
      "      (1): Linear(in_features=16, out_features=5, bias=True)\n",
      "    )\n",
      "    (do): Dropout(p=0.2, inplace=False)\n",
      "    (actfn): ReLU()\n",
      "  ),\n",
      ")\n",
      "[3 4 0 4 3 4 2 4 3 0 4 4 4 3 2 1 2 0 0 4 3 4 3 2 3 4 4 1 0 2 4 0 1 4 0 3 2\n",
      " 0 0 2]\n"
     ]
    }
   ],
   "source": [
    "model_skorch = ONNHBPClassifier(input_units=n_features,\n",
    "                                 output_units=n_classes,\n",
    "                                 hidden_units=ffn_hidden_units,\n",
    "                                 n_hidden_layers=n_hidden_layers)\n",
    "\n",
    "partial_fit = model_skorch.partial_fit(X,y)\n",
    "print(partial_fit)\n",
    "predict = model_skorch.predict(X)\n",
    "print(predict)"
   ]
  },
  {
   "cell_type": "markdown",
   "id": "3d398e54",
   "metadata": {},
   "source": [
    "### 2. Load the Iris dataset"
   ]
  },
  {
   "cell_type": "code",
   "execution_count": 6,
   "id": "fdbf8069",
   "metadata": {},
   "outputs": [],
   "source": [
    "iris = load_iris()\n",
    "X = iris['data']\n",
    "y = iris['target']\n",
    "names = iris['target_names']\n",
    "feature_names = iris['feature_names']\n",
    "\n",
    "# Scale data to have mean 0 and variance 1\n",
    "# which is importance for convergence of the neural network\n",
    "scaler = StandardScaler()\n",
    "X_scaled = scaler.fit_transform(X)\n",
    "\n",
    "# Split the data set into training and testing\n",
    "X_train, X_test, y_train, y_test = train_test_split(\n",
    "    X_scaled, y, test_size=0.2, random_state=2)"
   ]
  },
  {
   "cell_type": "markdown",
   "id": "1c438a51",
   "metadata": {},
   "source": [
    "### 3. Train and test ONN on Iris dataset"
   ]
  },
  {
   "cell_type": "code",
   "execution_count": 7,
   "id": "ec8adb44",
   "metadata": {
    "pycharm": {
     "name": "#%%\n"
    }
   },
   "outputs": [
    {
     "name": "stdout",
     "output_type": "stream",
     "text": [
      "  epoch    train_loss    valid_acc    valid_loss     dur\n",
      "-------  ------------  -----------  ------------  ------\n",
      "      1        \u001B[36m1.0788\u001B[0m       \u001B[32m0.4167\u001B[0m        \u001B[35m1.0833\u001B[0m  0.0070\n",
      "      2        \u001B[36m1.0770\u001B[0m       \u001B[32m0.4583\u001B[0m        \u001B[35m1.0812\u001B[0m  0.0079\n",
      "      3        \u001B[36m1.0747\u001B[0m       \u001B[32m0.5000\u001B[0m        \u001B[35m1.0791\u001B[0m  0.0061\n",
      "      4        \u001B[36m1.0724\u001B[0m       \u001B[32m0.5833\u001B[0m        \u001B[35m1.0771\u001B[0m  0.0070\n",
      "      5        \u001B[36m1.0702\u001B[0m       0.5833        \u001B[35m1.0750\u001B[0m  0.0060\n",
      "Accuracy on the test data 0.3\n"
     ]
    }
   ],
   "source": [
    "n_features = X_train.shape[1]\n",
    "n_classes = np.unique(y_test).shape[0]\n",
    "ffn_hidden_units = 50\n",
    "n_hidden_layers = 3\n",
    "\n",
    "model_skorch = ONNHBPClassifier(input_units=n_features,\n",
    "                                 output_units=n_classes,\n",
    "                                 hidden_units=ffn_hidden_units,\n",
    "                                 n_hidden_layers=n_hidden_layers)\n",
    "partial_fit = None\n",
    "for i in range(0,5):\n",
    "    partial_fit = model_skorch.partial_fit(X_train, y_train)\n",
    "\n",
    "print('Accuracy on the test data', partial_fit.score(X_test, y_test))"
   ]
  },
  {
   "cell_type": "markdown",
   "source": [
    "### 4. Mini-batch training."
   ],
   "metadata": {
    "collapsed": false
   }
  },
  {
   "cell_type": "code",
   "execution_count": 8,
   "outputs": [
    {
     "name": "stdout",
     "output_type": "stream",
     "text": [
      "  epoch    train_loss    valid_acc    valid_loss     dur\n",
      "-------  ------------  -----------  ------------  ------\n",
      "      1        \u001B[36m1.0855\u001B[0m       \u001B[32m0.2500\u001B[0m        \u001B[35m1.1201\u001B[0m  0.0040\n",
      "      2        1.0988       \u001B[32m0.5000\u001B[0m        \u001B[35m1.0544\u001B[0m  0.0040\n",
      "      3        \u001B[36m1.0731\u001B[0m       0.2500        1.0870  0.0040\n",
      "      4        1.0864       \u001B[32m0.7500\u001B[0m        \u001B[35m0.9967\u001B[0m  0.0040\n",
      "      5        1.0974       0.0000        1.1621  0.0050\n",
      "      6        \u001B[36m1.0354\u001B[0m       0.2500        1.0940  0.0049\n",
      "0.5\n"
     ]
    },
    {
     "name": "stderr",
     "output_type": "stream",
     "text": [
      "D:\\Anaconda\\lib\\site-packages\\sklearn\\model_selection\\_split.py:680: UserWarning: The least populated class in y has only 4 members, which is less than n_splits=5.\n",
      "  warnings.warn(\n",
      "D:\\Anaconda\\lib\\site-packages\\sklearn\\model_selection\\_split.py:680: UserWarning: The least populated class in y has only 3 members, which is less than n_splits=5.\n",
      "  warnings.warn(\n"
     ]
    }
   ],
   "source": [
    "batch_size = 20\n",
    "\n",
    "model_skorch = ONNHBPClassifier(input_units=n_features,\n",
    "                                 output_units=n_classes,\n",
    "                                 hidden_units=ffn_hidden_units,\n",
    "                                 n_hidden_layers=n_hidden_layers)\n",
    "\n",
    "for batch in gen_batches(X_train.shape[0], batch_size):\n",
    "    x_batch = X_train[batch]\n",
    "    y_batch = y_train[batch]\n",
    "    partial_fit = model_skorch.partial_fit(x_batch, y_batch)\n",
    "\n",
    "predict = model_skorch.predict(X_test)\n",
    "\n",
    "print(partial_fit.score(X_test, y_test))"
   ],
   "metadata": {
    "collapsed": false,
    "pycharm": {
     "name": "#%%\n"
    }
   }
  },
  {
   "cell_type": "markdown",
   "source": [
    "### 5. Improving the results.\n",
    "Note, the results of doing mini batch learning are very bad. This is because we only do one single epoch. An easy way to improve this is by running partial fit for each mini-batch several times, i.e, multiple epochs."
   ],
   "metadata": {
    "collapsed": false
   }
  },
  {
   "cell_type": "code",
   "execution_count": 9,
   "outputs": [
    {
     "name": "stdout",
     "output_type": "stream",
     "text": [
      "      7        1.0800       0.2500        1.1130  0.0050\n",
      "      8        1.0673       0.5000        1.0301  0.0040\n",
      "      9        1.0974       0.0000        1.1287  0.0055\n",
      "     10        1.0492       0.2500        1.1194  0.0053\n",
      "     11        1.0545       0.2500        1.0659  0.0042\n",
      "     12        1.0931       0.5000        1.0052  0.0040\n",
      "     13        1.0839       0.2500        1.0833  0.0050\n",
      "     14        1.0775       0.2500        1.0886  0.0040\n",
      "     15        1.0756       0.0000        1.1571  0.0050\n",
      "     16        1.0483       0.2500        1.0899  0.0050\n",
      "     17        1.0593       0.5000        1.0103  0.0040\n",
      "     18        1.1002       0.0000        1.1504  0.0040\n",
      "     19        1.0442       0.2500        1.0870  0.0040\n",
      "     20        1.0955       0.2500        1.0729  0.0047\n",
      "     21        1.0594       0.2500        1.0686  0.0050\n",
      "     22        1.0765       0.0000        1.1468  0.0040\n",
      "     23        1.0558       0.2500        1.0805  0.0049\n",
      "     24        1.0643       0.5000        1.0633  0.0049\n",
      "     25        1.0787       0.2500        1.0873  0.0041\n",
      "     26        1.0715       0.2500        1.0716  0.0050\n",
      "     27        1.0675       0.5000        1.0018  0.0040\n",
      "     28        1.0885       0.2500        1.0774  0.0040\n"
     ]
    },
    {
     "name": "stderr",
     "output_type": "stream",
     "text": [
      "D:\\Anaconda\\lib\\site-packages\\sklearn\\model_selection\\_split.py:680: UserWarning: The least populated class in y has only 4 members, which is less than n_splits=5.\n",
      "  warnings.warn(\n",
      "D:\\Anaconda\\lib\\site-packages\\sklearn\\model_selection\\_split.py:680: UserWarning: The least populated class in y has only 4 members, which is less than n_splits=5.\n",
      "  warnings.warn(\n",
      "D:\\Anaconda\\lib\\site-packages\\sklearn\\model_selection\\_split.py:680: UserWarning: The least populated class in y has only 3 members, which is less than n_splits=5.\n",
      "  warnings.warn(\n",
      "D:\\Anaconda\\lib\\site-packages\\sklearn\\model_selection\\_split.py:680: UserWarning: The least populated class in y has only 4 members, which is less than n_splits=5.\n",
      "  warnings.warn(\n",
      "D:\\Anaconda\\lib\\site-packages\\sklearn\\model_selection\\_split.py:680: UserWarning: The least populated class in y has only 4 members, which is less than n_splits=5.\n",
      "  warnings.warn(\n"
     ]
    },
    {
     "name": "stdout",
     "output_type": "stream",
     "text": [
      "     29        \u001B[36m1.0186\u001B[0m       0.2500        1.0777  0.0040\n",
      "     30        1.0302       0.7500        1.0031  0.0040\n",
      "     31        1.0423       0.5000        1.0139  0.0040\n",
      "     32        1.0541       0.5000        1.0518  0.0040\n",
      "     33        1.0671       0.0000        1.1565  0.0049\n",
      "     34        1.0490       0.5000        1.0086  0.0040\n",
      "     35        1.0301       0.2500        1.0756  0.0040\n",
      "     36        1.0328       0.7500        \u001B[35m0.9854\u001B[0m  0.0038\n"
     ]
    },
    {
     "name": "stderr",
     "output_type": "stream",
     "text": [
      "D:\\Anaconda\\lib\\site-packages\\sklearn\\model_selection\\_split.py:680: UserWarning: The least populated class in y has only 4 members, which is less than n_splits=5.\n",
      "  warnings.warn(\n",
      "D:\\Anaconda\\lib\\site-packages\\sklearn\\model_selection\\_split.py:680: UserWarning: The least populated class in y has only 4 members, which is less than n_splits=5.\n",
      "  warnings.warn(\n",
      "D:\\Anaconda\\lib\\site-packages\\sklearn\\model_selection\\_split.py:680: UserWarning: The least populated class in y has only 4 members, which is less than n_splits=5.\n",
      "  warnings.warn(\n"
     ]
    },
    {
     "name": "stdout",
     "output_type": "stream",
     "text": [
      "     37        1.0245       0.2500        1.0627  0.0040\n",
      "     38        1.0501       0.5000        1.1084  0.0040\n",
      "     39        1.0812       0.2500        1.0953  0.0039\n",
      "     40        1.1102       0.2500        1.0965  0.0040\n",
      "     41        1.0413       0.5000        1.0582  0.0035\n",
      "     42        \u001B[36m1.0053\u001B[0m       0.2500        1.0895  0.0040\n",
      "     43        1.0458       0.5000        \u001B[35m0.9594\u001B[0m  0.0039\n",
      "     44        1.0515       0.7500        \u001B[35m0.9532\u001B[0m  0.0039\n",
      "     45        1.0536       0.2500        1.1296  0.0050\n",
      "     46        1.0392       0.5000        1.0469  0.0030\n",
      "     47        1.0595       0.2500        1.0713  0.0040\n",
      "     48        1.0463       0.7500        0.9621  0.0039\n",
      "     49        1.0653       0.0000        1.1104  0.0040\n",
      "     50        1.0533       0.7500        1.0201  0.0040\n",
      "     51        1.0287       0.7500        0.9801  0.0040\n",
      "     52        1.0541       0.2500        1.0905  0.0040\n",
      "     53        1.0489       0.5000        1.0619  0.0030\n",
      "     54        1.0322       0.5000        1.0256  0.0041\n",
      "     55        1.0569       0.2500        1.0621  0.0040\n",
      "     56        1.0393       0.5000        1.0220  0.0040\n",
      "     57        1.0077       0.7500        0.9841  0.0040\n",
      "     58        1.0342       0.7500        0.9810  0.0040\n",
      "     59        \u001B[36m0.9848\u001B[0m       0.5000        0.9976  0.0037\n",
      "     60        1.0179       0.7500        0.9971  0.0040\n"
     ]
    },
    {
     "name": "stderr",
     "output_type": "stream",
     "text": [
      "D:\\Anaconda\\lib\\site-packages\\sklearn\\model_selection\\_split.py:680: UserWarning: The least populated class in y has only 4 members, which is less than n_splits=5.\n",
      "  warnings.warn(\n",
      "D:\\Anaconda\\lib\\site-packages\\sklearn\\model_selection\\_split.py:680: UserWarning: The least populated class in y has only 3 members, which is less than n_splits=5.\n",
      "  warnings.warn(\n",
      "D:\\Anaconda\\lib\\site-packages\\sklearn\\model_selection\\_split.py:680: UserWarning: The least populated class in y has only 2 members, which is less than n_splits=5.\n",
      "  warnings.warn(\n",
      "D:\\Anaconda\\lib\\site-packages\\sklearn\\model_selection\\_split.py:680: UserWarning: The least populated class in y has only 4 members, which is less than n_splits=5.\n",
      "  warnings.warn(\n",
      "D:\\Anaconda\\lib\\site-packages\\sklearn\\model_selection\\_split.py:680: UserWarning: The least populated class in y has only 4 members, which is less than n_splits=5.\n",
      "  warnings.warn(\n",
      "D:\\Anaconda\\lib\\site-packages\\sklearn\\model_selection\\_split.py:680: UserWarning: The least populated class in y has only 3 members, which is less than n_splits=5.\n",
      "  warnings.warn(\n",
      "D:\\Anaconda\\lib\\site-packages\\sklearn\\model_selection\\_split.py:680: UserWarning: The least populated class in y has only 4 members, which is less than n_splits=5.\n",
      "  warnings.warn(\n",
      "D:\\Anaconda\\lib\\site-packages\\sklearn\\model_selection\\_split.py:680: UserWarning: The least populated class in y has only 4 members, which is less than n_splits=5.\n",
      "  warnings.warn(\n",
      "D:\\Anaconda\\lib\\site-packages\\sklearn\\model_selection\\_split.py:680: UserWarning: The least populated class in y has only 4 members, which is less than n_splits=5.\n",
      "  warnings.warn(\n",
      "D:\\Anaconda\\lib\\site-packages\\sklearn\\model_selection\\_split.py:680: UserWarning: The least populated class in y has only 4 members, which is less than n_splits=5.\n",
      "  warnings.warn(\n",
      "D:\\Anaconda\\lib\\site-packages\\sklearn\\model_selection\\_split.py:680: UserWarning: The least populated class in y has only 4 members, which is less than n_splits=5.\n",
      "  warnings.warn(\n"
     ]
    },
    {
     "name": "stdout",
     "output_type": "stream",
     "text": [
      "     61        1.0348       0.5000        1.0196  0.0040\n",
      "     62        1.0395       0.7500        1.0442  0.0040\n",
      "     63        1.0102       0.5000        1.0186  0.0039\n",
      "     64        1.0207       0.7500        1.0561  0.0040\n",
      "     65        1.0621       0.2500        1.1337  0.0036\n",
      "     66        0.9850       \u001B[32m1.0000\u001B[0m        0.9920  0.0040\n",
      "Accuracy after 10 epochs 0.7666666666666667\n"
     ]
    },
    {
     "name": "stderr",
     "output_type": "stream",
     "text": [
      "D:\\Anaconda\\lib\\site-packages\\sklearn\\model_selection\\_split.py:680: UserWarning: The least populated class in y has only 4 members, which is less than n_splits=5.\n",
      "  warnings.warn(\n",
      "D:\\Anaconda\\lib\\site-packages\\sklearn\\model_selection\\_split.py:680: UserWarning: The least populated class in y has only 3 members, which is less than n_splits=5.\n",
      "  warnings.warn(\n"
     ]
    }
   ],
   "source": [
    "for _ in range(10): # n_epochs\n",
    "    for batch in gen_batches(X_train.shape[0], batch_size):\n",
    "        x_batch = X_train[batch]\n",
    "        y_batch = y_train[batch]\n",
    "        partial_fit = model_skorch.partial_fit(x_batch, y_batch)\n",
    "        # Shuffling the dataset\n",
    "        permutation = torch.randperm(X_train.shape[0])\n",
    "        X_train = X_train[permutation]\n",
    "        y_train = y_train[permutation]\n",
    "\n",
    "# Note how the results improved considerably\n",
    "print('Accuracy after 10 epochs', partial_fit.score(X_test, y_test))"
   ],
   "metadata": {
    "collapsed": false,
    "pycharm": {
     "name": "#%%\n"
    }
   }
  },
  {
   "cell_type": "markdown",
   "source": [
    "## Training and testing simultaneously, one example at the time"
   ],
   "metadata": {
    "collapsed": false,
    "pycharm": {
     "name": "#%% md\n"
    }
   }
  },
  {
   "cell_type": "code",
   "execution_count": null,
   "outputs": [
    {
     "name": "stdout",
     "output_type": "stream",
     "text": [
      "Online Accuracy at time 0: 0.15513333333333335\n",
      "Online Accuracy at time 1000: 0.9687333333333333\n",
      "Online Accuracy at time 2000: 0.9754666666666667\n",
      "Online Accuracy at time 3000: 0.9727333333333333\n",
      "Online Accuracy at time 4000: 0.9790666666666666\n",
      "Online Accuracy at time 5000: 0.9747333333333333\n",
      "Online Accuracy at time 6000: 0.9777333333333333\n",
      "Online Accuracy at time 7000: 0.9808666666666667\n",
      "Online Accuracy at time 8000: 0.9779333333333333\n",
      "Online Accuracy at time 9000: 0.9803333333333333\n",
      "Online Accuracy at time 10000: 0.981\n",
      "Online Accuracy at time 11000: 0.981\n",
      "Online Accuracy at time 12000: 0.9815333333333334\n",
      "Online Accuracy at time 13000: 0.9826666666666667\n",
      "Online Accuracy at time 14000: 0.9829333333333333\n",
      "Online Accuracy at time 15000: 0.9748666666666667\n",
      "Online Accuracy at time 16000: 0.9817333333333333\n",
      "Online Accuracy at time 17000: 0.9832\n",
      "Online Accuracy at time 18000: 0.9814\n",
      "Online Accuracy at time 19000: 0.9794666666666667\n",
      "Online Accuracy at time 20000: 0.9820666666666666\n",
      "Online Accuracy at time 21000: 0.9831333333333333\n",
      "Online Accuracy at time 22000: 0.9824666666666667\n",
      "Online Accuracy at time 23000: 0.9810666666666666\n",
      "Online Accuracy at time 24000: 0.9816\n",
      "Online Accuracy at time 25000: 0.9813333333333333\n",
      "Online Accuracy at time 26000: 0.9839333333333333\n"
     ]
    }
   ],
   "source": [
    "X, Y = make_classification(n_samples=50000, n_features=10, n_informative=4, n_redundant=0, n_classes=10,\n",
    "                           n_clusters_per_class=1, class_sep=3)\n",
    "\n",
    "X_train, X_test, y_train, y_test = train_test_split(X, Y, test_size=0.3, random_state=42, shuffle=True)\n",
    "\n",
    "onn_network = ONNHBPClassifier(input_units=10,\n",
    "                                output_units=10,\n",
    "                                hidden_units=40,\n",
    "                                n_hidden_layers=5,\n",
    "                                train_split=None,\n",
    "                                verbose=0\n",
    "                                )\n",
    "\n",
    "for i in range(len(X_train)):\n",
    "  partial_fit = onn_network.partial_fit(np.asarray([X_train[i, :]]), np.asarray([y_train[i]]))\n",
    "\n",
    "  if i % 1000 == 0:\n",
    "    print(\"Online Accuracy at time {}: {}\".format(i, partial_fit.score(X_test, y_test)))\n",
    "\n",
    "print('Training and testing finished')"
   ],
   "metadata": {
    "collapsed": false,
    "pycharm": {
     "name": "#%%\n",
     "is_executing": true
    }
   }
  }
 ],
 "metadata": {
  "kernelspec": {
   "name": "pycharm-ad200013",
   "language": "python",
   "display_name": "PyCharm (sail-cj2022-assignment)"
  },
  "language_info": {
   "codemirror_mode": {
    "name": "ipython",
    "version": 3
   },
   "file_extension": ".py",
   "mimetype": "text/x-python",
   "name": "python",
   "nbconvert_exporter": "python",
   "pygments_lexer": "ipython3",
   "version": "3.9.7"
  }
 },
 "nbformat": 4,
 "nbformat_minor": 5
}